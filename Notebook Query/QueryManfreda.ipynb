{
  "nbformat": 4,
  "nbformat_minor": 0,
  "metadata": {
    "colab": {
      "provenance": [],
      "mount_file_id": "1ArAFwateYhFynb0IpUQIbX6tuq8PMDPt",
      "authorship_tag": "ABX9TyMHX66RwjyGm/8oNaPCecbS",
      "include_colab_link": true
    },
    "kernelspec": {
      "name": "python3",
      "display_name": "Python 3"
    },
    "language_info": {
      "name": "python"
    }
  },
  "cells": [
    {
      "cell_type": "markdown",
      "metadata": {
        "id": "view-in-github",
        "colab_type": "text"
      },
      "source": [
        "<a href=\"https://colab.research.google.com/github/manuelecapece/Unibas-Progetto-Big-data-2022-23/blob/main/QueryManfreda.ipynb\" target=\"_parent\"><img src=\"https://colab.research.google.com/assets/colab-badge.svg\" alt=\"Open In Colab\"/></a>"
      ]
    },
    {
      "cell_type": "code",
      "execution_count": 1,
      "metadata": {
        "id": "NLJ1nD0szf2K"
      },
      "outputs": [],
      "source": [
        "import pandas as pd\n",
        "import numpy as np\n",
        "import os\n",
        "pd.set_option('display.max_columns', None)"
      ]
    },
    {
      "cell_type": "code",
      "source": [
        "from google.colab import drive\n",
        "drive.mount('/content/drive')"
      ],
      "metadata": {
        "colab": {
          "base_uri": "https://localhost:8080/"
        },
        "id": "Xyxap-cYzyji",
        "outputId": "f60706e6-73ed-423f-a870-b89424baf1c3"
      },
      "execution_count": 2,
      "outputs": [
        {
          "output_type": "stream",
          "name": "stdout",
          "text": [
            "Drive already mounted at /content/drive; to attempt to forcibly remount, call drive.mount(\"/content/drive\", force_remount=True).\n"
          ]
        }
      ]
    },
    {
      "cell_type": "markdown",
      "source": [
        "**Lettura CSV ed importazione in dataframe**"
      ],
      "metadata": {
        "id": "n1bBw5H-3uWp"
      }
    },
    {
      "cell_type": "code",
      "source": [
        "p1 = open('/content/drive/Shareddrives/Progetto Big Data/DataSet Puliti/presidentielles-2022-1er-tour_cleaned.csv')\n",
        "pres1 = pd.read_csv(p1, sep = ';')\n",
        "p2 = open('/content/drive/Shareddrives/Progetto Big Data/DataSet Puliti/presidentielles-2022-2nd-tour_cleaned.csv')\n",
        "pres2 = pd.read_csv(p2, sep = ';')"
      ],
      "metadata": {
        "colab": {
          "base_uri": "https://localhost:8080/"
        },
        "id": "jQ3AHUPQ2UBd",
        "outputId": "7bb8ac43-0f4a-4e51-d7cb-8157f416729c"
      },
      "execution_count": 58,
      "outputs": [
        {
          "output_type": "stream",
          "name": "stderr",
          "text": [
            "<ipython-input-58-7ec0399ebfb8>:2: DtypeWarning: Columns (0,4,6) have mixed types. Specify dtype option on import or set low_memory=False.\n",
            "  pres1 = pd.read_csv(p1, sep = ';')\n"
          ]
        }
      ]
    },
    {
      "cell_type": "code",
      "source": [
        "pres1"
      ],
      "metadata": {
        "id": "h4JXz_NJ5aam"
      },
      "execution_count": null,
      "outputs": []
    },
    {
      "cell_type": "code",
      "source": [
        "pres1.describe(include = 'all')"
      ],
      "metadata": {
        "id": "jvEOMPve6Hoq"
      },
      "execution_count": null,
      "outputs": []
    },
    {
      "cell_type": "code",
      "source": [
        "pres1.head(50)"
      ],
      "metadata": {
        "id": "S40O-wXQ454h"
      },
      "execution_count": null,
      "outputs": []
    },
    {
      "cell_type": "code",
      "source": [
        "pres1.info()"
      ],
      "metadata": {
        "id": "jGPyBh6U4cqZ"
      },
      "execution_count": null,
      "outputs": []
    },
    {
      "cell_type": "code",
      "source": [
        "pres1[['Code du département','Code de la commune', 'Code du b.vote']] = pres1[['Code du département','Code de la commune', 'Code du b.vote']].astype(\"string\")\n",
        "pres1[['Libellé du département','Libellé de la circonscription', 'Libellé de la commune', \n",
        "    'Sexe','Nom','Prénom','Nom Officiel Région','scrutin_code']] = pres1[['Libellé du département','Libellé de la circonscription', 'Libellé de la commune', \n",
        "                                                        'Sexe','Nom','Prénom','Nom Officiel Région','scrutin_code']].astype(\"string\")\n",
        "pres2[['Code du département','Code de la commune', 'Code du b.vote']] = pres2[['Code du département','Code de la commune', 'Code du b.vote']].astype(\"string\")\n",
        "pres2[['Libellé du département','Libellé de la circonscription', 'Libellé de la commune', \n",
        "    'Sexe','Nom','Prénom','Nom Officiel Région','scrutin_code']] = pres2[['Libellé du département','Libellé de la circonscription', 'Libellé de la commune', \n",
        "                                                        'Sexe','Nom','Prénom','Nom Officiel Région','scrutin_code']].astype(\"string\")\n"
      ],
      "metadata": {
        "id": "g2ZW0vhD7CXY"
      },
      "execution_count": 62,
      "outputs": []
    },
    {
      "cell_type": "code",
      "source": [
        "pres2.info()"
      ],
      "metadata": {
        "id": "vzt3j5Q17aYe"
      },
      "execution_count": null,
      "outputs": []
    },
    {
      "cell_type": "code",
      "source": [
        "pres2.head(50)"
      ],
      "metadata": {
        "id": "NmTPdnQl5NUD"
      },
      "execution_count": null,
      "outputs": []
    },
    {
      "cell_type": "markdown",
      "source": [
        "**QUERY 1** : I 20 dipartimenti con la maggiore percentuale di voti per Macron"
      ],
      "metadata": {
        "id": "yVOpn8eS7snw"
      }
    },
    {
      "cell_type": "code",
      "source": [
        "#Primo turno\n",
        "pres1_filtred = pres1[(pres1.Nom == 'MACRON')][['Nom', 'Code du département', 'Libellé du département', '% Exp/Vot']].sort_values(by = ['% Exp/Vot'], ascending = False)\n",
        "print(pres1_filtred.head(20))\n",
        "\n",
        "print('\\n************************************************************************\\n')\n",
        "\n",
        "#Secondo turno\n",
        "pres2_filtred = pres2[(pres2.Nom == 'MACRON')][['Nom', 'Code du département', 'Libellé du département', '% Exp/Vot']].sort_values(by = ['% Exp/Vot'], ascending = False)\n",
        "print(pres2_filtred.head(20))"
      ],
      "metadata": {
        "colab": {
          "base_uri": "https://localhost:8080/"
        },
        "id": "Ap6xkOtpIT2F",
        "outputId": "9686743e-8f95-4826-a181-70dbdf69b96e"
      },
      "execution_count": 99,
      "outputs": [
        {
          "output_type": "stream",
          "name": "stdout",
          "text": [
            "           Nom Code du département Libellé du département  % Exp/Vot\n",
            "345432  MACRON                  38                  Isère      100.0\n",
            "21850   MACRON                  65        Hautes-Pyrénées      100.0\n",
            "116011  MACRON                   9                 Ariège      100.0\n",
            "109815  MACRON                  65        Hautes-Pyrénées      100.0\n",
            "348967  MACRON                  15                 Cantal      100.0\n",
            "169103  MACRON                  64   Pyrénées-Atlantiques      100.0\n",
            "349433  MACRON                  19                Corrèze      100.0\n",
            "103576  MACRON                  11                   Aude      100.0\n",
            "349641  MACRON                  2B            Haute-Corse      100.0\n",
            "249998  MACRON                  84               Vaucluse      100.0\n",
            "349840  MACRON                  17      Charente-Maritime      100.0\n",
            "350258  MACRON                  33                Gironde      100.0\n",
            "115982  MACRON                   9                 Ariège      100.0\n",
            "350348  MACRON                  33                Gironde      100.0\n",
            "249692  MACRON                  23                 Creuse      100.0\n",
            "109832  MACRON                  65        Hautes-Pyrénées      100.0\n",
            "206442  MACRON                  81                   Tarn      100.0\n",
            "20170   MACRON                  11                   Aude      100.0\n",
            "107628  MACRON                  31          Haute-Garonne      100.0\n",
            "249452  MACRON                  17      Charente-Maritime      100.0\n",
            "\n",
            "************************************************************************\n",
            "\n",
            "          Nom Code du département   Libellé du département  % Exp/Vot\n",
            "36431  MACRON                  04  Alpes-de-Haute-Provence      100.0\n",
            "49708  MACRON                  26                    Drôme      100.0\n",
            "11551  MACRON                  17        Charente-Maritime      100.0\n",
            "36619  MACRON                  2B              Haute-Corse      100.0\n",
            "61230  MACRON                  97               La Réunion      100.0\n",
            "21901  MACRON                  11                     Aude      100.0\n",
            "21856  MACRON                  09                   Ariège      100.0\n",
            "21827  MACRON                  2B              Haute-Corse      100.0\n",
            "49927  MACRON                  86                   Vienne      100.0\n",
            "45328  MACRON                  53                  Mayenne      100.0\n",
            "33308  MACRON                  84                 Vaucluse      100.0\n",
            "17197  MACRON                  19                  Corrèze      100.0\n",
            "51170  MACRON                  31            Haute-Garonne      100.0\n",
            "61255  MACRON                  97               La Réunion      100.0\n",
            "51212  MACRON                  72                   Sarthe      100.0\n",
            "53887  MACRON                  31            Haute-Garonne      100.0\n",
            "5321   MACRON                  97               La Réunion      100.0\n",
            "49593  MACRON                  30                     Gard      100.0\n",
            "20944  MACRON                  82          Tarn-et-Garonne      100.0\n",
            "19327  MACRON                  65          Hautes-Pyrénées      100.0\n"
          ]
        }
      ]
    },
    {
      "cell_type": "markdown",
      "source": [
        "**QUERY 2**: I 20 dipartimenti con la minore percentuale di voti per Macron"
      ],
      "metadata": {
        "id": "d6BwLvn4OdVx"
      }
    },
    {
      "cell_type": "code",
      "source": [
        "#Primo turno\n",
        "pres1_filtred = pres1[(pres1.Nom == 'MACRON')][['Nom', 'Code du département', 'Libellé du département', '% Exp/Vot']].sort_values(by = ['% Exp/Vot'], ascending = True)\n",
        "print(pres1_filtred.head(20))\n",
        "\n",
        "print('\\n************************************************************************\\n')\n",
        "\n",
        "#Secondo turno\n",
        "pres2_filtred = pres2[(pres2.Nom == 'MACRON')][['Nom', 'Code du département', 'Libellé du département', '% Exp/Vot']].sort_values(by = ['% Exp/Vot'], ascending = True)\n",
        "print(pres2_filtred.head(20))"
      ],
      "metadata": {
        "colab": {
          "base_uri": "https://localhost:8080/"
        },
        "id": "-1GSYuSaOnjx",
        "outputId": "d1f6447f-70a4-434d-c683-2d20c6fef604"
      },
      "execution_count": 98,
      "outputs": [
        {
          "output_type": "stream",
          "name": "stdout",
          "text": [
            "           Nom Code du département         Libellé du département  % Exp/Vot\n",
            "31374   MACRON                  31                  Haute-Garonne        0.0\n",
            "233250  MACRON                  38                          Isère        0.0\n",
            "250803  MACRON                  79                    Deux-Sèvres        0.0\n",
            "122082  MACRON                  97                        Mayotte        0.0\n",
            "282712  MACRON                  24                       Dordogne        0.0\n",
            "224507  MACRON                  12                        Aveyron        0.0\n",
            "212194  MACRON                  73                         Savoie        0.0\n",
            "268325  MACRON                  47                 Lot-et-Garonne        0.0\n",
            "156134  MACRON                  05                   Hautes-Alpes        0.0\n",
            "61959   MACRON                  26                          Drôme        0.0\n",
            "234938  MACRON                  97                     Guadeloupe        0.0\n",
            "126681  MACRON                  30                           Gard        0.0\n",
            "303439  MACRON                  24                       Dordogne        0.0\n",
            "113895  MACRON                  43                    Haute-Loire        0.0\n",
            "47408   MACRON                  66            Pyrénées-Orientales        0.0\n",
            "39484   MACRON                  42                          Loire        0.0\n",
            "249644  MACRON                  23                         Creuse        0.0\n",
            "285168  MACRON                  97  Saint-Martin/Saint-Barthélemy        0.0\n",
            "21891   MACRON                  65                Hautes-Pyrénées        0.0\n",
            "378541  MACRON                   9                         Ariège        0.0\n",
            "\n",
            "************************************************************************\n",
            "\n",
            "          Nom Code du département         Libellé du département  % Exp/Vot\n",
            "45525  MACRON                  66            Pyrénées-Orientales        0.0\n",
            "25099  MACRON                  04        Alpes-de-Haute-Provence        0.0\n",
            "37182  MACRON                  97  Saint-Martin/Saint-Barthélemy        0.0\n",
            "5225   MACRON                  97                     Guadeloupe        0.0\n",
            "31770  MACRON                  97                        Mayotte        0.0\n",
            "13371  MACRON                  97                     Martinique        0.0\n",
            "53310  MACRON                  81                           Tarn        0.0\n",
            "14574  MACRON                  72                         Sarthe        0.0\n",
            "7036   MACRON                  97  Saint-Martin/Saint-Barthélemy        0.0\n",
            "15418  MACRON                  66            Pyrénées-Orientales        0.0\n",
            "13104  MACRON                  07                        Ardèche        0.0\n",
            "49110  MACRON                  69                          Rhône        0.0\n",
            "2422   MACRON                  73                         Savoie        0.0\n",
            "35719  MACRON                  40                         Landes        0.0\n",
            "21220  MACRON                  48                         Lozère        0.0\n",
            "59535  MACRON                  86                         Vienne        0.0\n",
            "16662  MACRON                  23                         Creuse        0.0\n",
            "45212  MACRON                  47                 Lot-et-Garonne        0.0\n",
            "49858  MACRON                  24                       Dordogne        0.0\n",
            "41571  MACRON                  74                   Haute-Savoie        0.0\n"
          ]
        }
      ]
    },
    {
      "cell_type": "markdown",
      "source": [
        "**QUERY 3**: I 20 dipartimenti con la maggiorne percentuale di voti per Marine LE PEN"
      ],
      "metadata": {
        "id": "05JjXD5kPM3Y"
      }
    },
    {
      "cell_type": "code",
      "source": [
        "#Primo turno\n",
        "pres1_filtred = pres1[(pres1.Nom == 'LE PEN')][['Nom', 'Code du département', 'Libellé du département', '% Exp/Vot']].sort_values(by = ['% Exp/Vot'], ascending = False)\n",
        "print(pres1_filtred.head(20))\n",
        "\n",
        "print('\\n********************************************************************************\\n')\n",
        "\n",
        "#Secondo turno\n",
        "pres2_filtred = pres2[(pres2.Nom == 'LE PEN')][['Nom', 'Code du département', 'Libellé du département', '% Exp/Vot']].sort_values(by = ['% Exp/Vot'], ascending = False)\n",
        "print(pres2_filtred.head(20))"
      ],
      "metadata": {
        "colab": {
          "base_uri": "https://localhost:8080/"
        },
        "id": "1ADCUl82PYQv",
        "outputId": "39d33783-602b-4ecf-f915-a9ab318638a8"
      },
      "execution_count": 97,
      "outputs": [
        {
          "output_type": "stream",
          "name": "stdout",
          "text": [
            "           Nom Code du département Libellé du département  % Exp/Vot\n",
            "55890   LE PEN                  2B            Haute-Corse      100.0\n",
            "10418   LE PEN                  79            Deux-Sèvres      100.0\n",
            "346063  LE PEN                  46                    Lot      100.0\n",
            "299180  LE PEN                  11                   Aude      100.0\n",
            "281737  LE PEN                  06        Alpes-Maritimes      100.0\n",
            "22334   LE PEN                  73                 Savoie      100.0\n",
            "186257  LE PEN                  09                 Ariège      100.0\n",
            "98959   LE PEN                  23                 Creuse      100.0\n",
            "268230  LE PEN                  46                    Lot      100.0\n",
            "10523   LE PEN                  79            Deux-Sèvres      100.0\n",
            "268233  LE PEN                  46                    Lot      100.0\n",
            "354194  LE PEN                  26                  Drôme      100.0\n",
            "299131  LE PEN                  11                   Aude      100.0\n",
            "256987  LE PEN                  64   Pyrénées-Atlantiques      100.0\n",
            "99112   LE PEN                  16               Charente      100.0\n",
            "329468  LE PEN                  31          Haute-Garonne      100.0\n",
            "219888  LE PEN                  81                   Tarn      100.0\n",
            "186123  LE PEN                  09                 Ariège      100.0\n",
            "10330   LE PEN                  53                Mayenne      100.0\n",
            "85280   LE PEN                  34                Hérault      100.0\n",
            "\n",
            "********************************************************************************\n",
            "\n",
            "          Nom Code du département   Libellé du département  % Exp/Vot\n",
            "45896  LE PEN                  42                    Loire      100.0\n",
            "56262  LE PEN                  03                   Allier      100.0\n",
            "48179  LE PEN                  04  Alpes-de-Haute-Provence      100.0\n",
            "31503  LE PEN                  11                     Aude      100.0\n",
            "61477  LE PEN                  82          Tarn-et-Garonne      100.0\n",
            "45703  LE PEN                  30                     Gard      100.0\n",
            "14529  LE PEN                  87             Haute-Vienne      100.0\n",
            "21807  LE PEN                  19                  Corrèze      100.0\n",
            "54263  LE PEN                  97               La Réunion      100.0\n",
            "35458  LE PEN                  26                    Drôme      100.0\n",
            "24712  LE PEN                  32                     Gers      100.0\n",
            "55780  LE PEN                  53                  Mayenne      100.0\n",
            "30051  LE PEN                  65          Hautes-Pyrénées      100.0\n",
            "13623  LE PEN                  86                   Vienne      100.0\n",
            "30228  LE PEN                  26                    Drôme      100.0\n",
            "13545  LE PEN                  74             Haute-Savoie      100.0\n",
            "60925  LE PEN                  65          Hautes-Pyrénées      100.0\n",
            "10883  LE PEN                  17        Charente-Maritime      100.0\n",
            "55941  LE PEN                  11                     Aude      100.0\n",
            "30681  LE PEN                  97               La Réunion      100.0\n"
          ]
        }
      ]
    }
  ]
}